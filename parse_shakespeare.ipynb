{
 "cells": [
  {
   "cell_type": "code",
   "execution_count": 3,
   "metadata": {},
   "outputs": [],
   "source": [
    "import glob\n",
    "import os\n",
    "from xml.dom.minidom import parse, Node\n",
    "folderlist = (glob.glob(\"data/all_plays/*.xml\"))"
   ]
  },
  {
   "cell_type": "code",
   "execution_count": 4,
   "metadata": {},
   "outputs": [],
   "source": [
    "for f in folderlist:\n",
    "    xmlTree = parse(f)\n",
    "    foldername = xmlTree.getElementsByTagName(\"TITLE\")[0].firstChild.data\n",
    "    os.mkdir(\"data/all_plays/\"+foldername)\n",
    "    for node in xmlTree.getElementsByTagName(\"SPEECH\"):\n",
    "        try:\n",
    "            filename = \"data/all_plays/\"+foldername + \"/\" + node.getElementsByTagName(\"SPEAKER\")[0].firstChild.data + \".txt\"\n",
    "            f = open(filename, \"a\")\n",
    "            for i in range(len(node.getElementsByTagName(\"LINE\"))):\n",
    "                f.write(node.getElementsByTagName(\"LINE\")[i].firstChild.data+\"\\n\")\n",
    "            f.close()\n",
    "        except:\n",
    "            pass"
   ]
  },
  {
   "cell_type": "code",
   "execution_count": 5,
   "metadata": {},
   "outputs": [],
   "source": [
    "import os\n",
    "import glob"
   ]
  },
  {
   "cell_type": "code",
   "execution_count": 7,
   "metadata": {},
   "outputs": [],
   "source": [
    "l_of_lines = []\n",
    "for d in glob.glob(\"data/major_plays/*\"):\n",
    "    for f in glob.glob(d+\"/*\"):\n",
    "        num_lines = sum(1 for line in open(f))\n",
    "        if num_lines < 40:\n",
    "            os.remove(f)"
   ]
  },
  {
   "cell_type": "code",
   "execution_count": null,
   "metadata": {},
   "outputs": [],
   "source": []
  }
 ],
 "metadata": {
  "kernelspec": {
   "display_name": "Python 3",
   "language": "python",
   "name": "python3"
  },
  "language_info": {
   "codemirror_mode": {
    "name": "ipython",
    "version": 3
   },
   "file_extension": ".py",
   "mimetype": "text/x-python",
   "name": "python",
   "nbconvert_exporter": "python",
   "pygments_lexer": "ipython3",
   "version": "3.9.0"
  }
 },
 "nbformat": 4,
 "nbformat_minor": 4
}
